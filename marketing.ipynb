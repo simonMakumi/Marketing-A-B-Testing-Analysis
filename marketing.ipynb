{
 "cells": [
  {
   "cell_type": "markdown",
   "id": "4e61cb7c",
   "metadata": {},
   "source": [
    "# Marketing A/B Testing Analysis\n",
    "\n",
    "This project analyzes a marketing A/B testing dataset to evaluate the effectiveness of advertisements in driving conversions. The analysis involves hypothesis testing, effect size calculation and visualizations to provide insights into the ad campaign's performance.\n",
    "\n",
    "## 1: Data Exploration & Preprocessing\n",
    "\n",
    "### 1.1 Load the Dataset"
   ]
  },
  {
   "cell_type": "code",
   "execution_count": 1,
   "id": "f52f7bf1",
   "metadata": {},
   "outputs": [],
   "source": [
    "# Import necessary libraries\n",
    "import pandas as pd\n",
    "import numpy as np\n",
    "\n",
    "import matplotlib.pyplot as plt\n",
    "import seaborn as sns\n",
    "\n",
    "from sklearn.preprocessing import LabelEncoder\n",
    "from statsmodels.stats.proportion import proportions_ztest, proportion_confint, confint_proportions_2indep\n",
    "\n",
    "import warnings\n",
    "warnings.filterwarnings('ignore')"
   ]
  },
  {
   "cell_type": "code",
   "execution_count": 2,
   "id": "1ec601e5",
   "metadata": {},
   "outputs": [
    {
     "data": {
      "text/html": [
       "<div>\n",
       "<style scoped>\n",
       "    .dataframe tbody tr th:only-of-type {\n",
       "        vertical-align: middle;\n",
       "    }\n",
       "\n",
       "    .dataframe tbody tr th {\n",
       "        vertical-align: top;\n",
       "    }\n",
       "\n",
       "    .dataframe thead th {\n",
       "        text-align: right;\n",
       "    }\n",
       "</style>\n",
       "<table border=\"1\" class=\"dataframe\">\n",
       "  <thead>\n",
       "    <tr style=\"text-align: right;\">\n",
       "      <th></th>\n",
       "      <th>Unnamed: 0</th>\n",
       "      <th>user id</th>\n",
       "      <th>test group</th>\n",
       "      <th>converted</th>\n",
       "      <th>total ads</th>\n",
       "      <th>most ads day</th>\n",
       "      <th>most ads hour</th>\n",
       "    </tr>\n",
       "  </thead>\n",
       "  <tbody>\n",
       "    <tr>\n",
       "      <th>0</th>\n",
       "      <td>0</td>\n",
       "      <td>1069124</td>\n",
       "      <td>ad</td>\n",
       "      <td>False</td>\n",
       "      <td>130</td>\n",
       "      <td>Monday</td>\n",
       "      <td>20</td>\n",
       "    </tr>\n",
       "    <tr>\n",
       "      <th>1</th>\n",
       "      <td>1</td>\n",
       "      <td>1119715</td>\n",
       "      <td>ad</td>\n",
       "      <td>False</td>\n",
       "      <td>93</td>\n",
       "      <td>Tuesday</td>\n",
       "      <td>22</td>\n",
       "    </tr>\n",
       "    <tr>\n",
       "      <th>2</th>\n",
       "      <td>2</td>\n",
       "      <td>1144181</td>\n",
       "      <td>ad</td>\n",
       "      <td>False</td>\n",
       "      <td>21</td>\n",
       "      <td>Tuesday</td>\n",
       "      <td>18</td>\n",
       "    </tr>\n",
       "    <tr>\n",
       "      <th>3</th>\n",
       "      <td>3</td>\n",
       "      <td>1435133</td>\n",
       "      <td>ad</td>\n",
       "      <td>False</td>\n",
       "      <td>355</td>\n",
       "      <td>Tuesday</td>\n",
       "      <td>10</td>\n",
       "    </tr>\n",
       "    <tr>\n",
       "      <th>4</th>\n",
       "      <td>4</td>\n",
       "      <td>1015700</td>\n",
       "      <td>ad</td>\n",
       "      <td>False</td>\n",
       "      <td>276</td>\n",
       "      <td>Friday</td>\n",
       "      <td>14</td>\n",
       "    </tr>\n",
       "  </tbody>\n",
       "</table>\n",
       "</div>"
      ],
      "text/plain": [
       "   Unnamed: 0  user id test group  converted  total ads most ads day  \\\n",
       "0           0  1069124         ad      False        130       Monday   \n",
       "1           1  1119715         ad      False         93      Tuesday   \n",
       "2           2  1144181         ad      False         21      Tuesday   \n",
       "3           3  1435133         ad      False        355      Tuesday   \n",
       "4           4  1015700         ad      False        276       Friday   \n",
       "\n",
       "   most ads hour  \n",
       "0             20  \n",
       "1             22  \n",
       "2             18  \n",
       "3             10  \n",
       "4             14  "
      ]
     },
     "execution_count": 2,
     "metadata": {},
     "output_type": "execute_result"
    }
   ],
   "source": [
    "# Load the dataset\n",
    "df = pd.read_csv('marketing_AB.csv')\n",
    "df.head()"
   ]
  },
  {
   "cell_type": "code",
   "execution_count": 3,
   "id": "4d9b9b00",
   "metadata": {},
   "outputs": [
    {
     "data": {
      "text/html": [
       "<div>\n",
       "<style scoped>\n",
       "    .dataframe tbody tr th:only-of-type {\n",
       "        vertical-align: middle;\n",
       "    }\n",
       "\n",
       "    .dataframe tbody tr th {\n",
       "        vertical-align: top;\n",
       "    }\n",
       "\n",
       "    .dataframe thead th {\n",
       "        text-align: right;\n",
       "    }\n",
       "</style>\n",
       "<table border=\"1\" class=\"dataframe\">\n",
       "  <thead>\n",
       "    <tr style=\"text-align: right;\">\n",
       "      <th></th>\n",
       "      <th>user id</th>\n",
       "      <th>test group</th>\n",
       "      <th>converted</th>\n",
       "      <th>total ads</th>\n",
       "      <th>most ads day</th>\n",
       "      <th>most ads hour</th>\n",
       "    </tr>\n",
       "  </thead>\n",
       "  <tbody>\n",
       "    <tr>\n",
       "      <th>0</th>\n",
       "      <td>1069124</td>\n",
       "      <td>ad</td>\n",
       "      <td>False</td>\n",
       "      <td>130</td>\n",
       "      <td>Monday</td>\n",
       "      <td>20</td>\n",
       "    </tr>\n",
       "    <tr>\n",
       "      <th>1</th>\n",
       "      <td>1119715</td>\n",
       "      <td>ad</td>\n",
       "      <td>False</td>\n",
       "      <td>93</td>\n",
       "      <td>Tuesday</td>\n",
       "      <td>22</td>\n",
       "    </tr>\n",
       "    <tr>\n",
       "      <th>2</th>\n",
       "      <td>1144181</td>\n",
       "      <td>ad</td>\n",
       "      <td>False</td>\n",
       "      <td>21</td>\n",
       "      <td>Tuesday</td>\n",
       "      <td>18</td>\n",
       "    </tr>\n",
       "    <tr>\n",
       "      <th>3</th>\n",
       "      <td>1435133</td>\n",
       "      <td>ad</td>\n",
       "      <td>False</td>\n",
       "      <td>355</td>\n",
       "      <td>Tuesday</td>\n",
       "      <td>10</td>\n",
       "    </tr>\n",
       "    <tr>\n",
       "      <th>4</th>\n",
       "      <td>1015700</td>\n",
       "      <td>ad</td>\n",
       "      <td>False</td>\n",
       "      <td>276</td>\n",
       "      <td>Friday</td>\n",
       "      <td>14</td>\n",
       "    </tr>\n",
       "  </tbody>\n",
       "</table>\n",
       "</div>"
      ],
      "text/plain": [
       "   user id test group  converted  total ads most ads day  most ads hour\n",
       "0  1069124         ad      False        130       Monday             20\n",
       "1  1119715         ad      False         93      Tuesday             22\n",
       "2  1144181         ad      False         21      Tuesday             18\n",
       "3  1435133         ad      False        355      Tuesday             10\n",
       "4  1015700         ad      False        276       Friday             14"
      ]
     },
     "execution_count": 3,
     "metadata": {},
     "output_type": "execute_result"
    }
   ],
   "source": [
    "df = df.drop(columns='Unnamed: 0')\n",
    "df.head()"
   ]
  },
  {
   "cell_type": "markdown",
   "id": "1f14547d",
   "metadata": {},
   "source": [
    "### Explore the dataset"
   ]
  },
  {
   "cell_type": "code",
   "execution_count": 4,
   "id": "60c9d32d",
   "metadata": {},
   "outputs": [
    {
     "data": {
      "text/html": [
       "<div>\n",
       "<style scoped>\n",
       "    .dataframe tbody tr th:only-of-type {\n",
       "        vertical-align: middle;\n",
       "    }\n",
       "\n",
       "    .dataframe tbody tr th {\n",
       "        vertical-align: top;\n",
       "    }\n",
       "\n",
       "    .dataframe thead th {\n",
       "        text-align: right;\n",
       "    }\n",
       "</style>\n",
       "<table border=\"1\" class=\"dataframe\">\n",
       "  <thead>\n",
       "    <tr style=\"text-align: right;\">\n",
       "      <th></th>\n",
       "      <th>user id</th>\n",
       "      <th>total ads</th>\n",
       "      <th>most ads hour</th>\n",
       "    </tr>\n",
       "  </thead>\n",
       "  <tbody>\n",
       "    <tr>\n",
       "      <th>count</th>\n",
       "      <td>5.881010e+05</td>\n",
       "      <td>588101.000000</td>\n",
       "      <td>588101.000000</td>\n",
       "    </tr>\n",
       "    <tr>\n",
       "      <th>mean</th>\n",
       "      <td>1.310692e+06</td>\n",
       "      <td>24.820876</td>\n",
       "      <td>14.469061</td>\n",
       "    </tr>\n",
       "    <tr>\n",
       "      <th>std</th>\n",
       "      <td>2.022260e+05</td>\n",
       "      <td>43.715181</td>\n",
       "      <td>4.834634</td>\n",
       "    </tr>\n",
       "    <tr>\n",
       "      <th>min</th>\n",
       "      <td>9.000000e+05</td>\n",
       "      <td>1.000000</td>\n",
       "      <td>0.000000</td>\n",
       "    </tr>\n",
       "    <tr>\n",
       "      <th>25%</th>\n",
       "      <td>1.143190e+06</td>\n",
       "      <td>4.000000</td>\n",
       "      <td>11.000000</td>\n",
       "    </tr>\n",
       "    <tr>\n",
       "      <th>50%</th>\n",
       "      <td>1.313725e+06</td>\n",
       "      <td>13.000000</td>\n",
       "      <td>14.000000</td>\n",
       "    </tr>\n",
       "    <tr>\n",
       "      <th>75%</th>\n",
       "      <td>1.484088e+06</td>\n",
       "      <td>27.000000</td>\n",
       "      <td>18.000000</td>\n",
       "    </tr>\n",
       "    <tr>\n",
       "      <th>max</th>\n",
       "      <td>1.654483e+06</td>\n",
       "      <td>2065.000000</td>\n",
       "      <td>23.000000</td>\n",
       "    </tr>\n",
       "  </tbody>\n",
       "</table>\n",
       "</div>"
      ],
      "text/plain": [
       "            user id      total ads  most ads hour\n",
       "count  5.881010e+05  588101.000000  588101.000000\n",
       "mean   1.310692e+06      24.820876      14.469061\n",
       "std    2.022260e+05      43.715181       4.834634\n",
       "min    9.000000e+05       1.000000       0.000000\n",
       "25%    1.143190e+06       4.000000      11.000000\n",
       "50%    1.313725e+06      13.000000      14.000000\n",
       "75%    1.484088e+06      27.000000      18.000000\n",
       "max    1.654483e+06    2065.000000      23.000000"
      ]
     },
     "metadata": {},
     "output_type": "display_data"
    },
    {
     "name": "stdout",
     "output_type": "stream",
     "text": [
      " Value counts for key columns\n"
     ]
    },
    {
     "data": {
      "text/plain": [
       "test group\n",
       "ad     564577\n",
       "psa     23524\n",
       "Name: count, dtype: int64"
      ]
     },
     "metadata": {},
     "output_type": "display_data"
    },
    {
     "data": {
      "text/plain": [
       "converted\n",
       "False    573258\n",
       "True      14843\n",
       "Name: count, dtype: int64"
      ]
     },
     "metadata": {},
     "output_type": "display_data"
    },
    {
     "name": "stdout",
     "output_type": "stream",
     "text": [
      " Missing values\n"
     ]
    },
    {
     "data": {
      "text/plain": [
       "user id          0\n",
       "test group       0\n",
       "converted        0\n",
       "total ads        0\n",
       "most ads day     0\n",
       "most ads hour    0\n",
       "dtype: int64"
      ]
     },
     "metadata": {},
     "output_type": "display_data"
    }
   ],
   "source": [
    "# Basic summary statistics\n",
    "display(df.describe())\n",
    "\n",
    "# Value counts for key columns\n",
    "print(' Value counts for key columns')\n",
    "display(df['test group'].value_counts())\n",
    "display(df['converted'].value_counts())\n",
    "\n",
    "# Check for missing values\n",
    "print(' Missing values')\n",
    "display(df.isnull().sum())\n"
   ]
  },
  {
   "cell_type": "markdown",
   "id": "0075d86c",
   "metadata": {},
   "source": [
    "## 2: Hypothesis Testing (Z-Test for Proportions)\n",
    "### 2.1 Calculate Conversion Rates"
   ]
  },
  {
   "cell_type": "code",
   "execution_count": 5,
   "id": "1a21dd84",
   "metadata": {},
   "outputs": [
    {
     "name": "stdout",
     "output_type": "stream",
     "text": [
      "Ad Group Conversion Rate: 0.025546559636683747\n",
      "PSA Group Conversion Rate: 0.01785410644448223\n"
     ]
    }
   ],
   "source": [
    "# Calculate conversion rates for the ad and PSA groups\n",
    "ad_group = df[df['test group'] == 'ad']\n",
    "psa_group = df[df['test group'] == 'psa']\n",
    "\n",
    "ad_conversion_rate = ad_group['converted'].mean()\n",
    "psa_conversion_rate = psa_group['converted'].mean()\n",
    "\n",
    "print(f\"Ad Group Conversion Rate: {ad_conversion_rate}\")\n",
    "print(f\"PSA Group Conversion Rate: {psa_conversion_rate}\")"
   ]
  },
  {
   "cell_type": "markdown",
   "id": "45268453",
   "metadata": {},
   "source": [
    "### 2.2 Perform Z-Test"
   ]
  },
  {
   "cell_type": "code",
   "execution_count": 6,
   "id": "ba85be58",
   "metadata": {},
   "outputs": [
    {
     "name": "stdout",
     "output_type": "stream",
     "text": [
      "Z-Statistic: 7.3700781265454145\n",
      "P-Value: 1.7052807161559727e-13\n"
     ]
    }
   ],
   "source": [
    "# Perform Z-Test\n",
    "ad_converted = ad_group['converted'].sum()\n",
    "psa_converted = psa_group['converted'].sum()\n",
    "\n",
    "n_ad = len(ad_group)\n",
    "n_psa = len(psa_group)\n",
    "\n",
    "count = [ad_converted, psa_converted]\n",
    "nobs = [n_ad, n_psa]\n",
    "z_stat, p_value = proportions_ztest(count, nobs)\n",
    "\n",
    "print(f\"Z-Statistic: {z_stat}\")\n",
    "print(f\"P-Value: {p_value}\")\n"
   ]
  },
  {
   "cell_type": "markdown",
   "id": "904bbe62",
   "metadata": {},
   "source": [
    "The ad campaign had a statistically significant impact on conversion rates and the likelihood that this result is due to random chance is extremely low (given the tiny P-value). The ads seem to be driving more conversions than the PSA.\n",
    "\n",
    "## 3: Effect Size and Confidence Intervals\n",
    "### 3.1 Calculate Effect Size (Cohen's h)\n"
   ]
  },
  {
   "cell_type": "code",
   "execution_count": 7,
   "id": "b458b87c",
   "metadata": {},
   "outputs": [
    {
     "name": "stdout",
     "output_type": "stream",
     "text": [
      "Effect Size (Cohen's h): 0.053002578606030915\n"
     ]
    }
   ],
   "source": [
    "# Function to calculate Cohen's h\n",
    "def cohens_h(p1, p2):\n",
    "    return 2 * (np.arcsin(np.sqrt(p1)) - np.arcsin(np.sqrt(p2)))\n",
    "\n",
    "# Calculate Cohen's h for the difference in conversion rates\n",
    "effect_size = cohens_h(ad_conversion_rate, psa_conversion_rate)\n",
    "print(f\"Effect Size (Cohen's h): {effect_size}\")"
   ]
  },
  {
   "cell_type": "markdown",
   "id": "be3da5cb",
   "metadata": {},
   "source": [
    "### 3.2 Confidence Interval for Conversion Rates"
   ]
  },
  {
   "cell_type": "code",
   "execution_count": 8,
   "id": "b2ce5d67",
   "metadata": {},
   "outputs": [
    {
     "name": "stdout",
     "output_type": "stream",
     "text": [
      "Ad Group 95% CI: [0.0251349995427061, 0.025958119730661394]\n",
      "PSA Group 95% CI: [0.016161914715211324, 0.019546298173753137]\n"
     ]
    }
   ],
   "source": [
    "# Confidence interval for ad group\n",
    "ci_ad_lower, ci_ad_upper = proportion_confint(ad_converted, n_ad, alpha=0.05)\n",
    "\n",
    "# Confidence interval for PSA group\n",
    "ci_psa_lower, ci_psa_upper = proportion_confint(psa_converted, n_psa, alpha=0.05)\n",
    "\n",
    "print(f\"Ad Group 95% CI: [{ci_ad_lower}, {ci_ad_upper}]\")\n",
    "print(f\"PSA Group 95% CI: [{ci_psa_lower}, {ci_psa_upper}]\")\n"
   ]
  },
  {
   "cell_type": "markdown",
   "id": "ab9884b4",
   "metadata": {},
   "source": [
    "### 3.3 Confidence Interval for the Difference in proportions"
   ]
  },
  {
   "cell_type": "code",
   "execution_count": 9,
   "id": "d02253ae",
   "metadata": {},
   "outputs": [
    {
     "name": "stdout",
     "output_type": "stream",
     "text": [
      "95% CI for Difference in Conversion Rates: [0.005950932431611005, 0.00943397395279203]\n"
     ]
    }
   ],
   "source": [
    "# Confidence interval for the difference in conversion rates\n",
    "ci_diff_lower, ci_diff_upper = confint_proportions_2indep(ad_converted, n_ad, psa_converted, n_psa, method='wald')\n",
    "\n",
    "print(f\"95% CI for Difference in Conversion Rates: [{ci_diff_lower}, {ci_diff_upper}]\")\n"
   ]
  },
  {
   "cell_type": "markdown",
   "id": "cbc0e54b",
   "metadata": {},
   "source": [
    "##### Conclusions:\n",
    "* The ads did have a significant effect on conversion rates, but the magnitude of that effect is small.\n",
    "* The results are statistically significant (P-value < 0.05), meaning the observed difference is not likely due to chance.\n",
    "* The practical impact (as shown by Cohen's h) is small, so while the ads worked better than the PSA, the overall gain in conversions is modest.\n",
    "\n",
    "## 4: Visualizations\n",
    "\n",
    "### 4.1 Conversion Rate Bar Plot"
   ]
  },
  {
   "cell_type": "code",
   "execution_count": 10,
   "id": "1c1db799",
   "metadata": {},
   "outputs": [
    {
     "data": {
      "image/png": "[encoded data removed]",
      "text/plain": [
       "<Figure size 800x600 with 1 Axes>"
      ]
     },
     "metadata": {},
     "output_type": "display_data"
    }
   ],
   "source": [
    "# Conversion rates\n",
    "conversion_rates = pd.DataFrame({\n",
    "    'Group': ['Ad Group', 'PSA Group'],\n",
    "    'Conversion Rate': [ad_conversion_rate, psa_conversion_rate]\n",
    "})\n",
    "\n",
    "# Plot\n",
    "plt.figure(figsize=(8,6))\n",
    "sns.barplot(x='Group', y='Conversion Rate', data=conversion_rates)\n",
    "plt.title('Conversion Rates: Ad Group vs PSA Group')\n",
    "plt.ylabel('Conversion Rate')\n",
    "plt.show()\n"
   ]
  },
  {
   "cell_type": "markdown",
   "id": "cbf1e192",
   "metadata": {},
   "source": [
    "### 4.2 Distribution of total ads seen"
   ]
  },
  {
   "cell_type": "code",
   "execution_count": 11,
   "id": "47ee0bbb",
   "metadata": {},
   "outputs": [
    {
     "data": {
      "image/png": "[encoded data removed]",
      "text/plain": [
       "<Figure size 1000x600 with 1 Axes>"
      ]
     },
     "metadata": {},
     "output_type": "display_data"
    }
   ],
   "source": [
    "plt.figure(figsize=(10,6))\n",
    "\n",
    "# Histogram for total ads seen by both groups\n",
    "sns.histplot(ad_group['total ads'], color='blue', label='Ad Group', kde=True, bins=30)\n",
    "sns.histplot(psa_group['total ads'], color='red', label='PSA Group', kde=True, bins=30)\n",
    "\n",
    "plt.title('Distribution of Total Ads Seen by Users')\n",
    "plt.xlabel('Total Ads Seen')\n",
    "plt.ylabel('Count')\n",
    "plt.legend()\n",
    "plt.show()\n"
   ]
  },
  {
   "cell_type": "markdown",
   "id": "d3269a76",
   "metadata": {},
   "source": [
    "### 4.3 Confidence Interval"
   ]
  },
  {
   "cell_type": "code",
   "execution_count": 12,
   "id": "a0005b02",
   "metadata": {},
   "outputs": [
    {
     "data": {
      "image/png": "[encoded data removed]",
      "text/plain": [
       "<Figure size 800x600 with 1 Axes>"
      ]
     },
     "metadata": {},
     "output_type": "display_data"
    }
   ],
   "source": [
    "# Plot conversion rates with confidence intervals\n",
    "plt.figure(figsize=(8,6))\n",
    "\n",
    "# Conversion rates with error bars (confidence intervals)\n",
    "plt.errorbar(x=['Ad Group', 'PSA Group'], \n",
    "             y=[ad_conversion_rate, psa_conversion_rate],\n",
    "             yerr=[(ad_conversion_rate - ci_ad_lower, ci_ad_upper - ad_conversion_rate),\n",
    "                   (psa_conversion_rate - ci_psa_lower, ci_psa_upper - psa_conversion_rate)],\n",
    "             fmt='o', capsize=5, capthick=2, color='blue')\n",
    "\n",
    "plt.title('Conversion Rates with 95% Confidence Intervals')\n",
    "plt.ylabel('Conversion Rate')\n",
    "plt.grid(True)\n",
    "plt.show()"
   ]
  }
 ],
 "metadata": {
  "kernelspec": {
   "display_name": "Python [conda env:learn-env] *",
   "language": "python",
   "name": "conda-env-learn-env-py"
  },
  "language_info": {
   "codemirror_mode": {
    "name": "ipython",
    "version": 3
   },
   "file_extension": ".py",
   "mimetype": "text/x-python",
   "name": "python",
   "nbconvert_exporter": "python",
   "pygments_lexer": "ipython3",
   "version": "3.11.9"
  }
 },
 "nbformat": 4,
 "nbformat_minor": 5
}
